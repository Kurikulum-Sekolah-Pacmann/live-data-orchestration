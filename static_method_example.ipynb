{
 "cells": [
  {
   "cell_type": "code",
   "execution_count": 3,
   "metadata": {},
   "outputs": [
    {
     "name": "stdout",
     "output_type": "stream",
     "text": [
      "8\n"
     ]
    }
   ],
   "source": [
    "class Matematika:\n",
    "    @staticmethod\n",
    "    def tambah(a, b):\n",
    "        return a + b\n",
    "\n",
    "m = Matematika()\n",
    "hasil = m.tambah(3, 5)\n",
    "print(hasil)"
   ]
  },
  {
   "cell_type": "code",
   "execution_count": 4,
   "metadata": {},
   "outputs": [
    {
     "ename": "TypeError",
     "evalue": "Matematika.tambah() takes 2 positional arguments but 3 were given",
     "output_type": "error",
     "traceback": [
      "\u001b[0;31m---------------------------------------------------------------------------\u001b[0m",
      "\u001b[0;31mTypeError\u001b[0m                                 Traceback (most recent call last)",
      "Cell \u001b[0;32mIn[4], line 7\u001b[0m\n\u001b[1;32m      5\u001b[0m \u001b[38;5;66;03m# Memanggil metode statis tanpa membuat instance kelas\u001b[39;00m\n\u001b[1;32m      6\u001b[0m m \u001b[38;5;241m=\u001b[39m Matematika()\n\u001b[0;32m----> 7\u001b[0m hasil \u001b[38;5;241m=\u001b[39m \u001b[43mm\u001b[49m\u001b[38;5;241;43m.\u001b[39;49m\u001b[43mtambah\u001b[49m\u001b[43m(\u001b[49m\u001b[38;5;241;43m3\u001b[39;49m\u001b[43m,\u001b[49m\u001b[43m \u001b[49m\u001b[38;5;241;43m5\u001b[39;49m\u001b[43m)\u001b[49m\n\u001b[1;32m      8\u001b[0m \u001b[38;5;28mprint\u001b[39m(hasil)\n",
      "\u001b[0;31mTypeError\u001b[0m: Matematika.tambah() takes 2 positional arguments but 3 were given"
     ]
    }
   ],
   "source": [
    "class Matematika:\n",
    "    def tambah(a, b):\n",
    "        return a + b\n",
    "\n",
    "m = Matematika()\n",
    "hasil = m.tambah(3, 5)\n",
    "print(hasil)\n"
   ]
  }
 ],
 "metadata": {
  "kernelspec": {
   "display_name": ".venv",
   "language": "python",
   "name": "python3"
  },
  "language_info": {
   "codemirror_mode": {
    "name": "ipython",
    "version": 3
   },
   "file_extension": ".py",
   "mimetype": "text/x-python",
   "name": "python",
   "nbconvert_exporter": "python",
   "pygments_lexer": "ipython3",
   "version": "3.10.12"
  }
 },
 "nbformat": 4,
 "nbformat_minor": 2
}
